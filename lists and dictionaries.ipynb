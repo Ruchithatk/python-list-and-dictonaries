{
 "cells": [
  {
   "cell_type": "code",
   "execution_count": 1,
   "metadata": {},
   "outputs": [
    {
     "name": "stdout",
     "output_type": "stream",
     "text": [
      "7\n",
      "0\n",
      "8\n",
      "-2\n",
      "4\n",
      "5\n",
      "16\n",
      "1\n",
      "6\n",
      "22\n",
      "[0, 8, -2, 4, 16, 6, 22]\n"
     ]
    }
   ],
   "source": [
    "#taking list input from user\n",
    "list1 = []\n",
    "\n",
    "for i in range(10):\n",
    "    num = int(input())\n",
    "    if num % 2==0:\n",
    "        list1.append(num)\n",
    "\n",
    "print(list1)"
   ]
  },
  {
   "cell_type": "code",
   "execution_count": 2,
   "metadata": {},
   "outputs": [
    {
     "data": {
      "text/plain": [
       "[2, 4, 6, 8]"
      ]
     },
     "execution_count": 2,
     "metadata": {},
     "output_type": "execute_result"
    }
   ],
   "source": [
    "#to construct list containing even numbers less then 10 using list comprehension\n",
    "list1 = [i for i in range(1,10) if i % 2 ==0]\n",
    "list1"
   ]
  },
  {
   "cell_type": "code",
   "execution_count": 3,
   "metadata": {},
   "outputs": [
    {
     "data": {
      "text/plain": [
       "['bit', 'cat', 'pet']"
      ]
     },
     "execution_count": 3,
     "metadata": {},
     "output_type": "execute_result"
    }
   ],
   "source": [
    "#to construct list which contains string length 3\n",
    "list1 = [1,\"bit\",\"enter\",\"long\",22,\"cat\",\"pet\",\"stats\"]\n",
    "\n",
    "list2 = [i for i in list1 if len(str(i))==3]\n",
    "list2"
   ]
  },
  {
   "cell_type": "code",
   "execution_count": 4,
   "metadata": {},
   "outputs": [
    {
     "data": {
      "text/plain": [
       "[0, 100, 400, 900, 1600, 2500, 3600, 4900, 6400, 8100, 10000]"
      ]
     },
     "execution_count": 4,
     "metadata": {},
     "output_type": "execute_result"
    }
   ],
   "source": [
    "#square of numbers with interval 10\n",
    "\n",
    "list1 = [i**2 for i in range(0,101,10)]\n",
    "list1"
   ]
  },
  {
   "cell_type": "code",
   "execution_count": 1,
   "metadata": {},
   "outputs": [
    {
     "name": "stdout",
     "output_type": "stream",
     "text": [
      "8\n"
     ]
    },
    {
     "data": {
      "text/plain": [
       "{1: 1, 2: 4, 3: 9, 4: 16, 5: 25, 6: 36, 7: 49, 8: 64}"
      ]
     },
     "execution_count": 1,
     "metadata": {},
     "output_type": "execute_result"
    }
   ],
   "source": [
    "#square of numbers in dictionary\n",
    "dict1 = {}\n",
    "\n",
    "num = int(input())\n",
    "\n",
    "for n in range(1,num+1):\n",
    "    dict1[n]=n**2\n",
    "dict1"
   ]
  },
  {
   "cell_type": "code",
   "execution_count": 2,
   "metadata": {},
   "outputs": [
    {
     "name": "stdout",
     "output_type": "stream",
     "text": [
      "4\n",
      "up 5\n",
      "down 3\n",
      "left 3\n",
      "right 2\n",
      "2\n"
     ]
    }
   ],
   "source": [
    "#calculate distance from initial position\n",
    "\n",
    "import math\n",
    "\n",
    "position = [0,0]\n",
    "moves = []\n",
    "count = int(input())\n",
    "\n",
    "for i in range(count):  \n",
    "    \n",
    "    moves=list(input().split())\n",
    "    \n",
    "    direction = moves[0].upper()\n",
    "    steps = int(moves[1])\n",
    "\n",
    "    if direction==\"UP\":\n",
    "        position[0] += steps\n",
    "        \n",
    "    elif direction==\"DOWN\":\n",
    "        position[0] -= steps\n",
    "        \n",
    "    elif direction==\"LEFT\":\n",
    "        position[1] -= steps\n",
    "        \n",
    "    elif direction==\"RIGHT\":\n",
    "        position[1] += steps\n",
    "        \n",
    "    else:\n",
    "        pass\n",
    "    \n",
    "print(round(math.sqrt(position[0]**2+position[1]**2)))"
   ]
  },
  {
   "cell_type": "markdown",
   "metadata": {},
   "source": [
    "### Thank you!"
   ]
  }
 ],
 "metadata": {
  "kernelspec": {
   "display_name": "Python 3",
   "language": "python",
   "name": "python3"
  },
  "language_info": {
   "codemirror_mode": {
    "name": "ipython",
    "version": 3
   },
   "file_extension": ".py",
   "mimetype": "text/x-python",
   "name": "python",
   "nbconvert_exporter": "python",
   "pygments_lexer": "ipython3",
   "version": "3.7.0"
  }
 },
 "nbformat": 4,
 "nbformat_minor": 2
}
